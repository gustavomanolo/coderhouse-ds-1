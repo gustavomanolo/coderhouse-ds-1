{
 "cells": [
  {
   "cell_type": "code",
   "execution_count": 35,
   "metadata": {},
   "outputs": [],
   "source": [
    "# Import Pandas\n",
    "import pandas as pd"
   ]
  },
  {
   "cell_type": "markdown",
   "metadata": {},
   "source": [
    "# Dataset 1\n",
    "### Top 1000 movies and TV shows according to IMDb rating"
   ]
  },
  {
   "cell_type": "code",
   "execution_count": 36,
   "metadata": {},
   "outputs": [],
   "source": [
    "# Data set 1\n",
    "# Top 1000 movies and TV shows according to IMDb rating\n",
    "# https://www.kaggle.com/datasets/anujsingh098/top-1000-imdb-movies\n",
    "dataSetPath1 = 'datasets/imdb_top_1000.csv'\n",
    "\n",
    "# Read dataset with pandas\n",
    "data = pd.read_csv(dataSetPath1)"
   ]
  },
  {
   "cell_type": "markdown",
   "metadata": {},
   "source": [
    "# Dataset 2\n",
    "### Credit card approval prediction"
   ]
  },
  {
   "cell_type": "code",
   "execution_count": 37,
   "metadata": {},
   "outputs": [],
   "source": [
    "# Data set 2\n",
    "# Credit Card Approval Prediction\n",
    "# https://www.kaggle.com/datasets/rikdifos/credit-card-approval-prediction\n",
    "dataSetPath2 = 'datasets/credit_application_record.csv'\n",
    "\n",
    "# Read dataset with pandas\n",
    "data2 = pd.read_csv(dataSetPath2)"
   ]
  },
  {
   "cell_type": "markdown",
   "metadata": {},
   "source": [
    "# Dataset 3\n",
    "### Hotel booking demand"
   ]
  },
  {
   "cell_type": "code",
   "execution_count": 38,
   "metadata": {},
   "outputs": [],
   "source": [
    "# Data set 3\n",
    "# Hotel booking demand\n",
    "# https://www.kaggle.com/datasets/jessemostipak/hotel-booking-demand\n",
    "dataSetPath3 = 'datasets/hotel_bookings.csv'\n",
    "\n",
    "# Read dataset with pandas\n",
    "data3 = pd.read_csv(dataSetPath3)\n"
   ]
  }
 ],
 "metadata": {
  "kernelspec": {
   "display_name": "Python 3.10.3 64-bit",
   "language": "python",
   "name": "python3"
  },
  "language_info": {
   "codemirror_mode": {
    "name": "ipython",
    "version": 3
   },
   "file_extension": ".py",
   "mimetype": "text/x-python",
   "name": "python",
   "nbconvert_exporter": "python",
   "pygments_lexer": "ipython3",
   "version": "3.10.3"
  },
  "orig_nbformat": 4,
  "vscode": {
   "interpreter": {
    "hash": "aee8b7b246df8f9039afb4144a1f6fd8d2ca17a180786b69acc140d282b71a49"
   }
  }
 },
 "nbformat": 4,
 "nbformat_minor": 2
}
